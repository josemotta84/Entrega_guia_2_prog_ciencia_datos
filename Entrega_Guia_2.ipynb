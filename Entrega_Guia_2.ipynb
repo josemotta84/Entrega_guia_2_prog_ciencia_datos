{
  "nbformat": 4,
  "nbformat_minor": 0,
  "metadata": {
    "colab": {
      "provenance": [],
      "include_colab_link": true
    },
    "kernelspec": {
      "name": "python3",
      "display_name": "Python 3"
    },
    "language_info": {
      "name": "python"
    }
  },
  "cells": [
    {
      "cell_type": "markdown",
      "metadata": {
        "id": "view-in-github",
        "colab_type": "text"
      },
      "source": [
        "<a href=\"https://colab.research.google.com/github/josemotta84/Entrega_guia_2_prog_ciencia_datos/blob/main/Entrega_Guia_2.ipynb\" target=\"_parent\"><img src=\"https://colab.research.google.com/assets/colab-badge.svg\" alt=\"Open In Colab\"/></a>"
      ]
    },
    {
      "cell_type": "markdown",
      "source": [
        "# **Guía 2**\n",
        "\n",
        "Objetivo: aplicar los conceptos de Pandas en la manipulación y análisis de datos estructurados. Se trabajará con Series y DataFrames, aplicando técnicas de acceso, selección, filtrado y agregación de datos.\n",
        "\n",
        "**Integrantes del grupo**\n",
        "\n",
        "1. Oscar Armando Gavidia\n",
        "2. Jose Fernando Motta Mendez\n",
        "\n",
        "### **Caso de Negocio: Análisis de Deserción de Clientes en una Empresa de Telecomunicaciones**\n",
        "\n",
        "**Contexto**\n",
        "\n",
        "En la industria de las telecomunicaciones, la retención de clientes es un factor crítico para la sostenibilidad del negocio. La competencia es feroz y adquirir nuevos clientes suele ser más costoso que mantener a los actuales. En este análisis, exploraremos un conjunto de datos que contiene información detallada sobre clientes que han abandonado el servicio (churn) y aquellos que permanecen activos.\n",
        "\n",
        "Nuestro objetivo es identificar los factores clave que influyen en la deserción, comprender patrones de comportamiento y generar estrategias efectivas para reducir la tasa de abandono.\n",
        "\n",
        "La empresa ha experimentado un aumento en la tasa de deserción de clientes, lo que ha provocado:\n",
        "- Pérdida de ingresos recurrentes.\n",
        "- Incremento en los costos de adquisición de nuevos clientes.\n",
        "- Menor estabilidad en la base de clientes a largo plazo.\n",
        "\n",
        "Para abordar esta problemática, es crucial identificar las razones detrás de la deserción y desarrollar estrategias para mejorar la retención de clientes.\n",
        "\n"
      ],
      "metadata": {
        "id": "sVxeQki8vRXz"
      }
    },
    {
      "cell_type": "markdown",
      "source": [
        "**Entrega del Trabajo**\n",
        "\n",
        "Los estudiantes deben trabajar en grupos de entre 2 y 4 personas. Cada grupo deberá subir su trabajo a un repositorio de GitHub, asegurándose de que el código y los archivos necesarios estén bien organizados y documentados. Posteriormente, deberán enviar el enlace del repositorio en la plataforma Canvas para su evaluación.\n",
        "\n",
        "Instrucciones para la entrega:\n",
        "\n",
        "Crear un repositorio en GitHub con un nombre descriptivo para el proyecto.\n",
        "\n",
        "Subir el código en Jupyter Notebook (.ipynb) o en formato Python (.py).\n",
        "\n",
        "Incluir un archivo README.md con una breve descripción del trabajo y las instrucciones de ejecución.\n",
        "\n",
        "Compartir el enlace del repositorio en Canvas dentro del plazo establecido.\n",
        "\n"
      ],
      "metadata": {
        "id": "TBsud25XSR0w"
      }
    },
    {
      "cell_type": "markdown",
      "source": [
        "**Descripción de las variables del dataset telecom_churn**\n",
        "\n",
        "El dataset telecom_churn contiene información detallada sobre clientes de una empresa de telecomunicaciones, incluyendo datos generales, planes contratados, uso del servicio telefónico y llamadas al servicio al cliente. Su propósito principal es analizar patrones de deserción de clientes, identificados a través de la variable churn, que indica si un cliente ha abandonado la empresa (1) o sigue siendo cliente (0).\n",
        "\n",
        "Dentro del dataset, encontramos información general como el estado (state) donde reside el cliente, el código de área (area code), y el número de teléfono (phone number), aunque esta última variable no aporta información útil para el análisis, ya que es un identificador único.\n",
        "\n",
        "Además, el dataset registra el tiempo que un cliente ha estado en la empresa a través de la variable account length, lo que puede ayudar a analizar si la duración del contrato influye en la deserción. También se incluyen detalles sobre los planes contratados, como si el cliente tiene un plan internacional (international plan), que le permite realizar llamadas internacionales, o un buzón de voz (voice mail plan), que le permite recibir mensajes de voz.\n",
        "\n",
        "En cuanto al uso del servicio, se registran datos detallados sobre el tiempo en llamadas y los costos asociados. Se divide en tres períodos del día: diurno (total day minutes, total day calls, total day charge), vespertino (total eve minutes, total eve calls, total eve charge) y nocturno (total night minutes, total night calls, total night charge), lo que permite evaluar si hay patrones de consumo que influyen en la deserción. También se incluye información sobre el uso del servicio internacional, con variables como total intl minutes (minutos en llamadas internacionales), total intl calls (cantidad de llamadas internacionales) y total intl charge (costos por llamadas internacionales).\n",
        "\n",
        "Otro aspecto clave del dataset es el número de llamadas al servicio al cliente (customer service calls), ya que una mayor cantidad de llamadas puede indicar insatisfacción y estar relacionada con la decisión del cliente de abandonar la empresa.\n",
        "\n",
        "Finalmente, la variable más importante del análisis es churn, que indica si un cliente ha desertado de la empresa. A partir de esta variable, podemos analizar qué factores influyen en la deserción y encontrar patrones en los clientes que tienen mayor probabilidad de abandonar el servicio.\n"
      ],
      "metadata": {
        "id": "R1eyqBGSScta"
      }
    },
    {
      "cell_type": "markdown",
      "source": [
        "**Exploración y Limpieza de Datos**\n",
        "\n",
        "Cargar y explorar el dataset\n",
        "\n",
        "Importa Pandas y carga el dataset telecom_churn.csv en un DataFrame.\n",
        "\n",
        "Muestra las primeras 5 filas del DataFrame.\n",
        "\n",
        "Verifica cuántas filas y columnas tiene el dataset.\n",
        "\n",
        "Muestra información general del dataset, incluyendo los tipos de datos.\n",
        "\n",
        "Identifica si hay valores nulos en alguna columna."
      ],
      "metadata": {
        "id": "-gqRGJ8yFs5Y"
      }
    },
    {
      "cell_type": "code",
      "source": [
        "!jupyter nbconvert --to html \"/content/drive/MyDrive/Colabb_Notebooks/Guias_programacion_ciencia_de_datos/Entrega_Guia_2.ipynb\"\n",
        "\n",
        "\n",
        "\n",
        "\n"
      ],
      "metadata": {
        "colab": {
          "base_uri": "https://localhost:8080/"
        },
        "id": "hYuCSdH35Ghl",
        "outputId": "eced6324-43dc-45bc-d687-b90e67015409"
      },
      "execution_count": 23,
      "outputs": [
        {
          "output_type": "stream",
          "name": "stdout",
          "text": [
            "[NbConvertApp] Converting notebook /content/drive/MyDrive/Colabb_Notebooks/Guias_programacion_ciencia_de_datos/Entrega_Guia_2.ipynb to html\n",
            "[NbConvertApp] Writing 339914 bytes to /content/drive/MyDrive/Colabb_Notebooks/Guias_programacion_ciencia_de_datos/Entrega_Guia_2.html\n"
          ]
        }
      ]
    },
    {
      "cell_type": "code",
      "execution_count": 14,
      "metadata": {
        "id": "wuoyvrE0vQ09",
        "colab": {
          "base_uri": "https://localhost:8080/"
        },
        "outputId": "252f30f6-a8c3-4faa-c6f9-836175b995a8"
      },
      "outputs": [
        {
          "output_type": "stream",
          "name": "stdout",
          "text": [
            "Drive already mounted at /content/drive; to attempt to forcibly remount, call drive.mount(\"/content/drive\", force_remount=True).\n",
            "Primeras 5 filas del dataset:\n",
            "  state  account length  area code phone number international plan  \\\n",
            "0    KS             128        415     382-4657                 no   \n",
            "1    OH             107        415     371-7191                 no   \n",
            "2    NJ             137        415     358-1921                 no   \n",
            "3    OH              84        408     375-9999                yes   \n",
            "4    OK              75        415     330-6626                yes   \n",
            "\n",
            "  voice mail plan  number vmail messages  total day minutes  total day calls  \\\n",
            "0             yes                     25              265.1              110   \n",
            "1             yes                     26              161.6              123   \n",
            "2              no                      0              243.4              114   \n",
            "3              no                      0              299.4               71   \n",
            "4              no                      0              166.7              113   \n",
            "\n",
            "   total day charge  ...  total eve calls  total eve charge  \\\n",
            "0             45.07  ...               99             16.78   \n",
            "1             27.47  ...              103             16.62   \n",
            "2             41.38  ...              110             10.30   \n",
            "3             50.90  ...               88              5.26   \n",
            "4             28.34  ...              122             12.61   \n",
            "\n",
            "   total night minutes  total night calls  total night charge  \\\n",
            "0                244.7                 91               11.01   \n",
            "1                254.4                103               11.45   \n",
            "2                162.6                104                7.32   \n",
            "3                196.9                 89                8.86   \n",
            "4                186.9                121                8.41   \n",
            "\n",
            "   total intl minutes  total intl calls  total intl charge  \\\n",
            "0                10.0                 3               2.70   \n",
            "1                13.7                 3               3.70   \n",
            "2                12.2                 5               3.29   \n",
            "3                 6.6                 7               1.78   \n",
            "4                10.1                 3               2.73   \n",
            "\n",
            "   customer service calls  churn  \n",
            "0                       1  False  \n",
            "1                       1  False  \n",
            "2                       0  False  \n",
            "3                       2  False  \n",
            "4                       3  False  \n",
            "\n",
            "[5 rows x 21 columns]\n",
            "\n",
            "Forma del dataset (filas, columnas): (3333, 21)\n",
            "\n",
            "Información general del dataset:\n",
            "<class 'pandas.core.frame.DataFrame'>\n",
            "RangeIndex: 3333 entries, 0 to 3332\n",
            "Data columns (total 21 columns):\n",
            " #   Column                  Non-Null Count  Dtype  \n",
            "---  ------                  --------------  -----  \n",
            " 0   state                   3333 non-null   object \n",
            " 1   account length          3333 non-null   int64  \n",
            " 2   area code               3333 non-null   int64  \n",
            " 3   phone number            3333 non-null   object \n",
            " 4   international plan      3333 non-null   object \n",
            " 5   voice mail plan         3333 non-null   object \n",
            " 6   number vmail messages   3333 non-null   int64  \n",
            " 7   total day minutes       3333 non-null   float64\n",
            " 8   total day calls         3333 non-null   int64  \n",
            " 9   total day charge        3333 non-null   float64\n",
            " 10  total eve minutes       3333 non-null   float64\n",
            " 11  total eve calls         3333 non-null   int64  \n",
            " 12  total eve charge        3333 non-null   float64\n",
            " 13  total night minutes     3333 non-null   float64\n",
            " 14  total night calls       3333 non-null   int64  \n",
            " 15  total night charge      3333 non-null   float64\n",
            " 16  total intl minutes      3333 non-null   float64\n",
            " 17  total intl calls        3333 non-null   int64  \n",
            " 18  total intl charge       3333 non-null   float64\n",
            " 19  customer service calls  3333 non-null   int64  \n",
            " 20  churn                   3333 non-null   bool   \n",
            "dtypes: bool(1), float64(8), int64(8), object(4)\n",
            "memory usage: 524.2+ KB\n",
            "None\n",
            "\n",
            "Tipos de datos de cada columna:\n",
            "state                      object\n",
            "account length              int64\n",
            "area code                   int64\n",
            "phone number               object\n",
            "international plan         object\n",
            "voice mail plan            object\n",
            "number vmail messages       int64\n",
            "total day minutes         float64\n",
            "total day calls             int64\n",
            "total day charge          float64\n",
            "total eve minutes         float64\n",
            "total eve calls             int64\n",
            "total eve charge          float64\n",
            "total night minutes       float64\n",
            "total night calls           int64\n",
            "total night charge        float64\n",
            "total intl minutes        float64\n",
            "total intl calls            int64\n",
            "total intl charge         float64\n",
            "customer service calls      int64\n",
            "churn                        bool\n",
            "dtype: object\n",
            "\n",
            "Valores nulos por columna:\n",
            "state                     0\n",
            "account length            0\n",
            "area code                 0\n",
            "phone number              0\n",
            "international plan        0\n",
            "voice mail plan           0\n",
            "number vmail messages     0\n",
            "total day minutes         0\n",
            "total day calls           0\n",
            "total day charge          0\n",
            "total eve minutes         0\n",
            "total eve calls           0\n",
            "total eve charge          0\n",
            "total night minutes       0\n",
            "total night calls         0\n",
            "total night charge        0\n",
            "total intl minutes        0\n",
            "total intl calls          0\n",
            "total intl charge         0\n",
            "customer service calls    0\n",
            "churn                     0\n",
            "dtype: int64\n"
          ]
        }
      ],
      "source": [
        "# Solucion propuesta\n",
        "import pandas as pd\n",
        "from google.colab import drive\n",
        "\n",
        "# Conectar Google Drive\n",
        "drive.mount('/content/drive')\n",
        "\n",
        "# Cargar el dataset\n",
        "# Oscar si necesitas cambiar la ruta en tu computador, no borres la ruta que puse, simplemente comentala, con eso no me toca volverla a reescribir\n",
        "df = pd.read_csv(\"/content/drive/My Drive/Colab_Notebooks/Guias_programacion_ciencia_de_datos/Datos/telecom_churn.csv\")\n",
        "\n",
        "#Ruta para el csv\n",
        "#\n",
        "\n",
        "#df = Aqui pones la ruta (tiene que ser en google drive)\n",
        "\n",
        "# Mostrar las primeras 5 filas del DataFrame\n",
        "print(\"Primeras 5 filas del dataset:\")\n",
        "print(df.head(5))\n",
        "\n",
        "# Mostrar la cantidad de filas y columnas\n",
        "print(\"\\nForma del dataset (filas, columnas):\", df.shape)\n",
        "\n",
        "# Mostrar información general del dataset\n",
        "print(\"\\nInformación general del dataset:\")\n",
        "print(df.info())  # Preferimos usar este comando debido a que proporciona una visión general mejor que describe()\n",
        "\n",
        "# Mostrar los tipos de datos de cada columna\n",
        "print(\"\\nTipos de datos de cada columna:\")\n",
        "print(df.dtypes)\n",
        "\n",
        "# Verificar si hay valores nulos en alguna columna\n",
        "print(\"\\nValores nulos por columna:\")\n",
        "print(df.isnull().sum())\n",
        "\n"
      ]
    },
    {
      "cell_type": "code",
      "source": [
        "from google.colab import drive\n",
        "drive.mount('/content/drive')"
      ],
      "metadata": {
        "id": "Rh1oYqY-8GsS"
      },
      "execution_count": null,
      "outputs": []
    },
    {
      "cell_type": "code",
      "source": [
        "type(df) # Esto se hace para comprobar que el data frame haya sido cargado con exito y que se almaceno como data frame"
      ],
      "metadata": {
        "colab": {
          "base_uri": "https://localhost:8080/",
          "height": 204
        },
        "id": "Y7CRU4p41Zgu",
        "outputId": "fb6ce4df-78c0-4922-fba6-852725f73e44"
      },
      "execution_count": null,
      "outputs": [
        {
          "output_type": "execute_result",
          "data": {
            "text/plain": [
              "pandas.core.frame.DataFrame"
            ],
            "text/html": [
              "<div style=\"max-width:800px; border: 1px solid var(--colab-border-color);\"><style>\n",
              "      pre.function-repr-contents {\n",
              "        overflow-x: auto;\n",
              "        padding: 8px 12px;\n",
              "        max-height: 500px;\n",
              "      }\n",
              "\n",
              "      pre.function-repr-contents.function-repr-contents-collapsed {\n",
              "        cursor: pointer;\n",
              "        max-height: 100px;\n",
              "      }\n",
              "    </style>\n",
              "    <pre style=\"white-space: initial; background:\n",
              "         var(--colab-secondary-surface-color); padding: 8px 12px;\n",
              "         border-bottom: 1px solid var(--colab-border-color);\"><b>pandas.core.frame.DataFrame</b><br/>def __init__(data=None, index: Axes | None=None, columns: Axes | None=None, dtype: Dtype | None=None, copy: bool | None=None) -&gt; None</pre><pre class=\"function-repr-contents function-repr-contents-collapsed\" style=\"\"><a class=\"filepath\" style=\"display:none\" href=\"#\">/usr/local/lib/python3.11/dist-packages/pandas/core/frame.py</a>Two-dimensional, size-mutable, potentially heterogeneous tabular data.\n",
              "\n",
              "Data structure also contains labeled axes (rows and columns).\n",
              "Arithmetic operations align on both row and column labels. Can be\n",
              "thought of as a dict-like container for Series objects. The primary\n",
              "pandas data structure.\n",
              "\n",
              "Parameters\n",
              "----------\n",
              "data : ndarray (structured or homogeneous), Iterable, dict, or DataFrame\n",
              "    Dict can contain Series, arrays, constants, dataclass or list-like objects. If\n",
              "    data is a dict, column order follows insertion-order. If a dict contains Series\n",
              "    which have an index defined, it is aligned by its index. This alignment also\n",
              "    occurs if data is a Series or a DataFrame itself. Alignment is done on\n",
              "    Series/DataFrame inputs.\n",
              "\n",
              "    If data is a list of dicts, column order follows insertion-order.\n",
              "\n",
              "index : Index or array-like\n",
              "    Index to use for resulting frame. Will default to RangeIndex if\n",
              "    no indexing information part of input data and no index provided.\n",
              "columns : Index or array-like\n",
              "    Column labels to use for resulting frame when data does not have them,\n",
              "    defaulting to RangeIndex(0, 1, 2, ..., n). If data contains column labels,\n",
              "    will perform column selection instead.\n",
              "dtype : dtype, default None\n",
              "    Data type to force. Only a single dtype is allowed. If None, infer.\n",
              "copy : bool or None, default None\n",
              "    Copy data from inputs.\n",
              "    For dict data, the default of None behaves like ``copy=True``.  For DataFrame\n",
              "    or 2d ndarray input, the default of None behaves like ``copy=False``.\n",
              "    If data is a dict containing one or more Series (possibly of different dtypes),\n",
              "    ``copy=False`` will ensure that these inputs are not copied.\n",
              "\n",
              "    .. versionchanged:: 1.3.0\n",
              "\n",
              "See Also\n",
              "--------\n",
              "DataFrame.from_records : Constructor from tuples, also record arrays.\n",
              "DataFrame.from_dict : From dicts of Series, arrays, or dicts.\n",
              "read_csv : Read a comma-separated values (csv) file into DataFrame.\n",
              "read_table : Read general delimited file into DataFrame.\n",
              "read_clipboard : Read text from clipboard into DataFrame.\n",
              "\n",
              "Notes\n",
              "-----\n",
              "Please reference the :ref:`User Guide &lt;basics.dataframe&gt;` for more information.\n",
              "\n",
              "Examples\n",
              "--------\n",
              "Constructing DataFrame from a dictionary.\n",
              "\n",
              "&gt;&gt;&gt; d = {&#x27;col1&#x27;: [1, 2], &#x27;col2&#x27;: [3, 4]}\n",
              "&gt;&gt;&gt; df = pd.DataFrame(data=d)\n",
              "&gt;&gt;&gt; df\n",
              "   col1  col2\n",
              "0     1     3\n",
              "1     2     4\n",
              "\n",
              "Notice that the inferred dtype is int64.\n",
              "\n",
              "&gt;&gt;&gt; df.dtypes\n",
              "col1    int64\n",
              "col2    int64\n",
              "dtype: object\n",
              "\n",
              "To enforce a single dtype:\n",
              "\n",
              "&gt;&gt;&gt; df = pd.DataFrame(data=d, dtype=np.int8)\n",
              "&gt;&gt;&gt; df.dtypes\n",
              "col1    int8\n",
              "col2    int8\n",
              "dtype: object\n",
              "\n",
              "Constructing DataFrame from a dictionary including Series:\n",
              "\n",
              "&gt;&gt;&gt; d = {&#x27;col1&#x27;: [0, 1, 2, 3], &#x27;col2&#x27;: pd.Series([2, 3], index=[2, 3])}\n",
              "&gt;&gt;&gt; pd.DataFrame(data=d, index=[0, 1, 2, 3])\n",
              "   col1  col2\n",
              "0     0   NaN\n",
              "1     1   NaN\n",
              "2     2   2.0\n",
              "3     3   3.0\n",
              "\n",
              "Constructing DataFrame from numpy ndarray:\n",
              "\n",
              "&gt;&gt;&gt; df2 = pd.DataFrame(np.array([[1, 2, 3], [4, 5, 6], [7, 8, 9]]),\n",
              "...                    columns=[&#x27;a&#x27;, &#x27;b&#x27;, &#x27;c&#x27;])\n",
              "&gt;&gt;&gt; df2\n",
              "   a  b  c\n",
              "0  1  2  3\n",
              "1  4  5  6\n",
              "2  7  8  9\n",
              "\n",
              "Constructing DataFrame from a numpy ndarray that has labeled columns:\n",
              "\n",
              "&gt;&gt;&gt; data = np.array([(1, 2, 3), (4, 5, 6), (7, 8, 9)],\n",
              "...                 dtype=[(&quot;a&quot;, &quot;i4&quot;), (&quot;b&quot;, &quot;i4&quot;), (&quot;c&quot;, &quot;i4&quot;)])\n",
              "&gt;&gt;&gt; df3 = pd.DataFrame(data, columns=[&#x27;c&#x27;, &#x27;a&#x27;])\n",
              "...\n",
              "&gt;&gt;&gt; df3\n",
              "   c  a\n",
              "0  3  1\n",
              "1  6  4\n",
              "2  9  7\n",
              "\n",
              "Constructing DataFrame from dataclass:\n",
              "\n",
              "&gt;&gt;&gt; from dataclasses import make_dataclass\n",
              "&gt;&gt;&gt; Point = make_dataclass(&quot;Point&quot;, [(&quot;x&quot;, int), (&quot;y&quot;, int)])\n",
              "&gt;&gt;&gt; pd.DataFrame([Point(0, 0), Point(0, 3), Point(2, 3)])\n",
              "   x  y\n",
              "0  0  0\n",
              "1  0  3\n",
              "2  2  3\n",
              "\n",
              "Constructing DataFrame from Series/DataFrame:\n",
              "\n",
              "&gt;&gt;&gt; ser = pd.Series([1, 2, 3], index=[&quot;a&quot;, &quot;b&quot;, &quot;c&quot;])\n",
              "&gt;&gt;&gt; df = pd.DataFrame(data=ser, index=[&quot;a&quot;, &quot;c&quot;])\n",
              "&gt;&gt;&gt; df\n",
              "   0\n",
              "a  1\n",
              "c  3\n",
              "\n",
              "&gt;&gt;&gt; df1 = pd.DataFrame([1, 2, 3], index=[&quot;a&quot;, &quot;b&quot;, &quot;c&quot;], columns=[&quot;x&quot;])\n",
              "&gt;&gt;&gt; df2 = pd.DataFrame(data=df1, index=[&quot;a&quot;, &quot;c&quot;])\n",
              "&gt;&gt;&gt; df2\n",
              "   x\n",
              "a  1\n",
              "c  3</pre>\n",
              "      <script>\n",
              "      if (google.colab.kernel.accessAllowed && google.colab.files && google.colab.files.view) {\n",
              "        for (const element of document.querySelectorAll('.filepath')) {\n",
              "          element.style.display = 'block'\n",
              "          element.onclick = (event) => {\n",
              "            event.preventDefault();\n",
              "            event.stopPropagation();\n",
              "            google.colab.files.view(element.textContent, 509);\n",
              "          };\n",
              "        }\n",
              "      }\n",
              "      for (const element of document.querySelectorAll('.function-repr-contents')) {\n",
              "        element.onclick = (event) => {\n",
              "          event.preventDefault();\n",
              "          event.stopPropagation();\n",
              "          element.classList.toggle('function-repr-contents-collapsed');\n",
              "        };\n",
              "      }\n",
              "      </script>\n",
              "      </div>"
            ]
          },
          "metadata": {},
          "execution_count": 2
        }
      ]
    },
    {
      "cell_type": "markdown",
      "source": [
        "**Análisis de Churn y Factores Relacionados**\n",
        "\n",
        "Calcula el porcentaje de clientes que han desertado (churn = 1).\n",
        "\n",
        "Identifica si los clientes con plan internacional (international plan) tienen mayor tasa de deserción.\n",
        "\n",
        "Identifica si los clientes con buzón de voz (voice mail plan) tienen menor tasa de deserción."
      ],
      "metadata": {
        "id": "PIGXq-ijFgb4"
      }
    },
    {
      "cell_type": "code",
      "source": [
        "# Solución propuesta\n",
        "\n",
        "# Número total de clientes que han desertado\n",
        "numero_clientes_desertado = df['churn'].sum()  # Suma de todos los valores en la columna 'churn' (1 indica deserción)\n",
        "\n",
        "# Cálculo de la tasa de deserción general\n",
        "tasa_clientes_desertado = round((numero_clientes_desertado / len(df)) * 100, 2)  # Porcentaje de clientes que han desertado en relación al total de clientes\n",
        "\n",
        "# Imprime la tasa de deserción de todos los clientes\n",
        "print(f\"El porcentaje de clientes que han desertado es {tasa_clientes_desertado}%\")\n",
        "\n",
        "# Clientes con plan internacional ('yes' indica que tienen el plan)\n",
        "clientes_con_plan_int = df['international plan'].value_counts().get('yes', 0)  # Cuenta los clientes con plan internacional\n",
        "\n",
        "# # Esta condicion procesa las divisiones por cero en caso de que no haya clientes con el plan internacional para evitar que el codigo se detenga\n",
        "if clientes_con_plan_int > 0:\n",
        "    # Número de clientes con plan internacional que han desertado\n",
        "    clientes_desertado_con_plan_int = ((df['churn'] == 1) & (df['international plan'] == 'yes')).sum()  # Suma de desertores con plan internacional\n",
        "\n",
        "    # Cálculo de la tasa de deserción para clientes con plan internacional\n",
        "    tasa_clientes_desertados_con_plan_int = round((clientes_desertado_con_plan_int / clientes_con_plan_int) * 100, 2)  # Porcentaje de desertores con plan internacional\n",
        "\n",
        "    # Imprime la tasa de deserción de los clientes con plan internacional\n",
        "    print(f\"El porcentaje de clientes con plan internacional que han desertado es {tasa_clientes_desertados_con_plan_int}%\")\n",
        "else:\n",
        "    print(\"No hay clientes con plan internacional.\")\n",
        "\n",
        "# Clientes con buzón de voz ('yes' indica que tienen el plan)\n",
        "clientes_con_buzon_de_voz = df['voice mail plan'].value_counts().get('yes', 0)  # Cuenta los clientes con buzón de voz\n",
        "\n",
        "# Esta condicion procesa las divisiones por cero en caso de que no haya clientes con el plan con buzon de voz para evitar que el codigo se detenga\n",
        "if clientes_con_buzon_de_voz > 0:\n",
        "    # Número de clientes con buzón de voz que han desertado\n",
        "    clientes_desertado_con_buzon_de_voz = ((df['churn'] == 1) & (df['voice mail plan'] == 'yes')).sum()  # Suma de desertores con buzón de voz\n",
        "\n",
        "    # Cálculo de la tasa de deserción para clientes con buzón de voz\n",
        "    tasa_cliente_desertado_con_buzon_de_voz = round((clientes_desertado_con_buzon_de_voz / clientes_con_buzon_de_voz) * 100, 2)  # Porcentaje de desertores con buzón de voz\n",
        "\n",
        "    # Imprime la tasa de deserción de los clientes con buzón de voz\n",
        "    print(f\"El porcentaje de clientes con plan con mensaje de voz que han desertado es {tasa_cliente_desertado_con_buzon_de_voz}%\")\n",
        "else:\n",
        "    print(\"No hay clientes con plan de buzón de voz.\")\n",
        "\n",
        "# Interpretación de los resultados\n",
        "if tasa_clientes_desertados_con_plan_int > tasa_cliente_desertado_con_buzon_de_voz:\n",
        "    print(\"Por ende, se puede concluir que los clientes con plan internacional tienen una tasa de deserción más alta con respecto a los clientes que tienen un plan con buzón de voz.\")\n",
        "else:\n",
        "    print(\"Por ende, se puede concluir que los clientes con plan con buzón de voz tienen una tasa de deserción más alta con respecto a los clientes que tienen un plan internacional.\")\n",
        "\n",
        "\n",
        "\n",
        "\n",
        "\n"
      ],
      "metadata": {
        "id": "3_TFqdwBwUD-",
        "colab": {
          "base_uri": "https://localhost:8080/"
        },
        "outputId": "c2a6b4ae-8308-4402-80d9-53852bce8d22"
      },
      "execution_count": null,
      "outputs": [
        {
          "output_type": "stream",
          "name": "stdout",
          "text": [
            "El porcentaje de clientes que han desertado es 14.49%\n",
            "El porcentaje de clientes con plan internacional que han desertado es 42.41%\n",
            "El porcentaje de clientes con plan con mensaje de voz que han desertado es 8.68%\n",
            "Por ende, se puede concluir que los clientes con plan internacional tienen una tasa de deserción más alta con respecto a los clientes que tienen un plan con buzón de voz.\n"
          ]
        }
      ]
    },
    {
      "cell_type": "markdown",
      "source": [
        "**Análisis de la Duración del Servicio y Deserción**\n",
        "\n",
        "¿Cuál es la duración promedio de la cuenta (account length) entre clientes que desertaron y los que permanecen?\n",
        "\n",
        "¿Los clientes con cuentas más antiguas tienen más probabilidades de desertar?"
      ],
      "metadata": {
        "id": "yL8Y_juFFup7"
      }
    },
    {
      "cell_type": "code",
      "source": [
        "# Solución propuesta\n",
        "#No se creo una funcion para la duracion promedio debido a que esa logica solo se usa en este bloque de codigo\n",
        "\n",
        "# Calculando la duración promedio de todos los clientes, los que desertaron y los que permanecen\n",
        "duracion_cliente_promedio_todos_los_clientes = df['account length'].mean()\n",
        "print(f\"La duracion promedio de todos los clientes es {round(duracion_cliente_promedio_todos_los_clientes,2)}\")\n",
        "\n",
        "duracion_promedio_clientes_que_desertaron = df[df['churn'] == 1]['account length'].mean()\n",
        "print(f\"La duracion promedio de los clientes que desertaron es {round(duracion_promedio_clientes_que_desertaron,2)}\")\n",
        "\n",
        "duracion_promedio_clientes_que_permanecen = df[df['churn'] == 0]['account length'].mean()\n",
        "print(f\"La duracion promedio de los clientes que permanecen es {round(duracion_promedio_clientes_que_permanecen,2)}\")\n",
        "\n",
        "# Calculando la correlación para determinar si la probabilidad de desertar aumenta a medida que la duracion aumenta\n",
        "correlacion = df['account length'].corr(df['churn'])\n",
        "\n",
        "# Función para interpretar la correlación\n",
        "def interpretar_correlacion(correlacion):\n",
        "    if correlacion > 0.7:\n",
        "        return \"Correlación es positiva fuerte\"\n",
        "    elif 0.3 < correlacion <= 0.7:\n",
        "        return \"Correlación es positiva moderada\"\n",
        "    elif -0.3 < correlacion <= 0.3:\n",
        "        return \"Correlación es débil o nula\"\n",
        "    elif -0.7 < correlacion <= -0.3:\n",
        "        return \"Correlación es negativa moderada\"\n",
        "    else:\n",
        "        return \"Correlación negativa fuerte\"\n",
        "\n",
        "resultado = interpretar_correlacion(correlacion)\n",
        "print(f\"La correlación entre la duración de la cuenta y la deserción es {correlacion:.2f}, lo cual quiere decir que la {resultado}\")\n",
        "\n",
        "# Interpretación del impacto de la correlación\n",
        "if correlacion < -0.7:\n",
        "    print(\"Por ende se puede concluir que los clientes con cuentas más largas tienen menos probabilidad de desertar.\")\n",
        "elif -0.7 < correlacion < -0.3:\n",
        "    print(\"Por ende se puede concluir que a medida que aumenta la duración de la cuenta, disminuye la deserción.\")\n",
        "elif -0.3 < correlacion < 0.3:\n",
        "    print(\"Por ende se puede concluir que la duración de la cuenta no está fuertemente relacionada con la deserción.\")\n",
        "elif 0.3 < correlacion < 0.7:\n",
        "    print(\"Por ende se puede concluir que la duración de la cuenta influye moderadamente en la deserción.\")\n",
        "else:\n",
        "    print(\"Por ende se puede concluir que a mayor duración de la cuenta, mayor deserción.\")\n",
        "\n",
        "\n",
        "\n",
        "\n"
      ],
      "metadata": {
        "id": "7ViU0n6lGFao",
        "colab": {
          "base_uri": "https://localhost:8080/"
        },
        "outputId": "151d361e-7932-4d74-8f8b-a00178f2db7c"
      },
      "execution_count": null,
      "outputs": [
        {
          "output_type": "stream",
          "name": "stdout",
          "text": [
            "La duracion promedio de todos los clientes es 101.06\n",
            "La duracion promedio de los clientes que desertaron es 102.66\n",
            "La duracion promedio de los clientes que permanecen es 100.79\n",
            "La correlación entre la duración de la cuenta y la deserción es 0.02, lo cual quiere decir que la Correlación es débil o nula\n",
            "Por ende se puede concluir que la duración de la cuenta no está fuertemente relacionada con la deserción.\n"
          ]
        }
      ]
    },
    {
      "cell_type": "markdown",
      "source": [
        "**Relación entre Deserción y Uso del Servicio**\n",
        "\n",
        "Compara la cantidad de minutos usados en llamadas diurnas (total day minutes) entre clientes con y sin churn.\n",
        "\n",
        "Compara la cantidad de minutos usados en llamadas nocturnas (total night minutes).\n",
        "\n",
        "Compara el número total de llamadas (total day calls) entre clientes con y sin churn."
      ],
      "metadata": {
        "id": "vyaa82K0GF6B"
      }
    },
    {
      "cell_type": "code",
      "source": [
        "# Solución propuesta\n",
        "\n",
        "# 1. Compara la cantidad de minutos usados en llamadas diurnas (total day minutes) entre clientes con y sin churn.\n",
        "\n",
        "# calculo del promedio de minutos usados en el dia para churn\n",
        "\n",
        "minutos_diurnos_promedio =df.groupby('churn')['total day minutes'].mean()\n",
        "\n",
        "minutos_diurnos_promedio_con_churn =df[df['churn']==1]['total day minutes'].mean()\n",
        "\n",
        "print(minutos_diurnos_promedio.round( 2))\n",
        "\n",
        "print('\\033[1mParte 1 comparacion total de llamadas diurnas \\033[0m')\n",
        "\n",
        "print(f'minutos promedio duirnos con churn: {minutos_diurnos_promedio_con_churn.round(2) }')\n",
        "\n",
        "minutos_diurnos_promedio_sin_churn =df[df['churn']==0]['total day minutes'].mean()\n",
        "\n",
        "print(f'minutos promedio duirnos sin churn: {minutos_diurnos_promedio_sin_churn.round(2) }')\n",
        "\n",
        "\n",
        "\n",
        "print('\\033[1mParte 2 comparacion total de llamadas nocturas\\033[0m')\n",
        "\n",
        "# 2 calculo del promedio de minutos usados en la noche para churn\n",
        "\n",
        "minutos_nocturnos_promedio =df.groupby('churn')['total night minutes'].mean()\n",
        "\n",
        "minutos_nocturnos_promedio_con_churn =df[df['churn']==1]['total night minutes'].mean()\n",
        "\n",
        "print(f'minutos promedio nocturnos con churn: {minutos_nocturnos_promedio_con_churn.round(2) }')\n",
        "\n",
        "minutos_nocturnos_promedio_sin_churn =df[df['churn']==0]['total night minutes'].mean()\n",
        "\n",
        "print(f'minutos promedio nocturnos sin churn: {minutos_nocturnos_promedio_sin_churn.round(2) }')\n",
        "\n",
        "\n",
        "# 3  parte Compara el número total de llamadas (total day calls) entre clientes con y sin churn.\n",
        "print('\\033[1mParte 3 comparacion total de llamadas nocturas\\033[0m')\n",
        "\n",
        "llamadas_diurnas_promedio_con_churn =df[df['churn']==1]['total day calls'].mean()\n",
        "print(f'llamadas diurnas promedi con churn: {llamadas_diurnas_promedio_con_churn.round(2) }')\n",
        "\n",
        "llamadas_diurnas_promedio_sin_churn =df[df['churn']==0]['total day calls'].mean()\n",
        "print(f'llamadas diurnas promedi sin churn: {llamadas_diurnas_promedio_sin_churn.round(2) }')"
      ],
      "metadata": {
        "id": "d4aPKcv2GrpL",
        "colab": {
          "base_uri": "https://localhost:8080/"
        },
        "outputId": "d6b158b8-bdf2-4fc0-8ba7-36157d8844d1"
      },
      "execution_count": 5,
      "outputs": [
        {
          "output_type": "stream",
          "name": "stdout",
          "text": [
            "churn\n",
            "False    175.18\n",
            "True     206.91\n",
            "Name: total day minutes, dtype: float64\n",
            "\u001b[1mParte 1 comparacion total de llamadas diurnas \u001b[0m\n",
            "minutos promedio duirnos con churn: 206.91\n",
            "minutos promedio duirnos sin churn: 175.18\n",
            "\u001b[1mParte 2 comparacion total de llamadas nocturas\u001b[0m\n",
            "minutos promedio nocturnos con churn: 205.23\n",
            "minutos promedio nocturnos sin churn: 200.13\n",
            "\u001b[1mParte 3 comparacion total de llamadas nocturas\u001b[0m\n",
            "llamadas diurnas promedi con churn: 101.34\n",
            "llamadas diurnas promedi sin churn: 100.28\n"
          ]
        }
      ]
    },
    {
      "cell_type": "markdown",
      "source": [
        "**Impacto de las Llamadas al Servicio al Cliente en la Deserción**\n",
        "\n",
        "Calcula el número promedio de llamadas al servicio al cliente (customer service calls) entre clientes que desertaron y los que no.\n",
        "\n",
        "Divide los clientes en dos grupos:\n",
        "\n",
        "- Grupo 1: Clientes que llamaron más de 3 veces al servicio al cliente.\n",
        "- Grupo 2: Clientes que llamaron 3 veces o menos.\n",
        "Compara la tasa de churn entre ambos grupos."
      ],
      "metadata": {
        "id": "aKl9LnZgGsDT"
      }
    },
    {
      "cell_type": "code",
      "source": [
        "# Solución propuesta\n",
        "\n",
        "# Calcula el número promedio de llamadas al servicio al cliente entre clientes que desertaron y los que no.\n",
        "promedio_llamadas_churn = df[df['churn'] == 1]['customer service calls'].mean()\n",
        "promedio_llamadas_no_churn = df[df['churn'] == 0]['customer service calls'].mean()\n",
        "\n",
        "print(f\"Promedio de llamadas al servicio al cliente para clientes que desertaron: {promedio_llamadas_churn:.2f}\")\n",
        "print(f\"Promedio de llamadas al servicio al cliente para clientes que no desertaron: {promedio_llamadas_no_churn:.2f}\")\n",
        "\n",
        "# Divide los clientes en dos grupos, considerando si desertaron o no:\n",
        "# Grupo 1: Clientes que desertaron y llamaron más de 3 veces al servicio al cliente.\n",
        "# Grupo 2: Clientes que desertaron y llamaron 3 veces o menos.\n",
        "grupo1 = df[(df['churn'] == 1) & (df['customer service calls'] > 3)]\n",
        "grupo2 = df[(df['churn'] == 1) & (df['customer service calls'] <= 3)]\n",
        "\n",
        "# Compara la tasa de churn entre ambos grupos (en este caso, la proporción de clientes que desertaron en cada grupo).\n",
        "tasa_churn_grupo1 = len(grupo1) / len(df[df['churn'] == 1]) * 100  # Proporción de clientes en grupo1 respecto al total de clientes que desertaron\n",
        "tasa_churn_grupo2 = len(grupo2) / len(df[df['churn'] == 1]) * 100  # Proporción de clientes en grupo2 respecto al total de clientes que desertaron\n",
        "\n",
        "print(f\"Proporción de clientes que desertaron en el Grupo 1 (más de 3 llamadas): {tasa_churn_grupo1:.2f}%\")\n",
        "print(f\"Proporción de clientes que desertaron en el Grupo 2 (3 llamadas o menos): {tasa_churn_grupo2:.2f}%\")\n"
      ],
      "metadata": {
        "id": "ac9qDXgrGz-M",
        "colab": {
          "base_uri": "https://localhost:8080/"
        },
        "outputId": "a59f50b9-5e1a-44d5-97a8-df134df6a336"
      },
      "execution_count": 6,
      "outputs": [
        {
          "output_type": "stream",
          "name": "stdout",
          "text": [
            "Promedio de llamadas al servicio al cliente para clientes que desertaron: 2.23\n",
            "Promedio de llamadas al servicio al cliente para clientes que no desertaron: 1.45\n",
            "Proporción de clientes que desertaron en el Grupo 1 (más de 3 llamadas): 28.57%\n",
            "Proporción de clientes que desertaron en el Grupo 2 (3 llamadas o menos): 71.43%\n"
          ]
        }
      ]
    },
    {
      "cell_type": "markdown",
      "source": [
        "**Análisis del Costo de las Llamadas y Churn**\n",
        "\n",
        "Compara el costo total de llamadas diurnas (total day charge) entre clientes con y sin churn.\n",
        "\n",
        "Compara el costo total de llamadas nocturnas (total night charge).\n",
        "\n",
        "¿Los clientes con mayor gasto en llamadas internacionales (total intl charge) tienen más probabilidades de desertar?"
      ],
      "metadata": {
        "id": "U7oTziiyG0Wb"
      }
    },
    {
      "cell_type": "code",
      "source": [
        "# Solución propuesta\n",
        "\n",
        "# Análisis del Costo de las Llamadas y Churn\n",
        "\n",
        "# 1. Compara el costo total de llamadas diurnas (total day charge) entre clientes con y sin churn.\n",
        "\n",
        "# Calcula el costo promedio de llamadas diurnas para clientes que desertaron (churn = 1)\n",
        "costo_diurno_churn = df[df['churn'] == 1]['total day charge'].mean()\n",
        "\n",
        "# Calcula el costo promedio de llamadas diurnas para clientes que NO desertaron (churn = 0)\n",
        "costo_diurno_no_churn = df[df['churn'] == 0]['total day charge'].mean()\n",
        "\n",
        "# Imprime los resultados\n",
        "print(f\"Costo promedio de llamadas diurnas para clientes con churn: {costo_diurno_churn:.2f}\")  # :.2f formatea a 2 decimales\n",
        "print(f\"Costo promedio de llamadas diurnas para clientes sin churn: {costo_diurno_no_churn:.2f}\")\n",
        "\n",
        "\n",
        "# 2. Compara el costo total de llamadas nocturnas (total night charge).\n",
        "\n",
        "# Calcula el costo promedio de llamadas nocturnas para clientes que desertaron (churn = 1)\n",
        "costo_nocturno_churn = df[df['churn'] == 1]['total night charge'].mean()\n",
        "\n",
        "# Calcula el costo promedio de llamadas nocturnas para clientes que NO desertaron (churn = 0)\n",
        "costo_nocturno_no_churn = df[df['churn'] == 0]['total night charge'].mean()\n",
        "\n",
        "# Imprime los resultados\n",
        "print(f\"\\nCosto promedio de llamadas nocturnas para clientes con churn: {costo_nocturno_churn:.2f}\")\n",
        "print(f\"Costo promedio de llamadas nocturnas para clientes sin churn: {costo_nocturno_no_churn:.2f}\")\n",
        "\n",
        "\n",
        "# 3. ¿Los clientes con mayor gasto en llamadas internacionales (total intl charge) tienen más probabilidades de desertar?\n",
        "\n",
        "# Calcula la correlación entre el gasto en llamadas internacionales y la deserción (churn)\n",
        "correlacion_intl_churn = df['total intl charge'].corr(df['churn'])\n",
        "\n",
        "# Imprime la correlación\n",
        "print(f\"\\nCorrelación entre gasto en llamadas internacionales y churn: {correlacion_intl_churn:.2f}\")\n",
        "\n",
        "# Interpretación de la correlación (puedes agregar más detalles aquí según los rangos de correlación)\n",
        "if correlacion_intl_churn > 0:\n",
        "    print(\"Existe una correlación positiva, lo que sugiere que un mayor gasto en llamadas internacionales podría estar asociado con una mayor probabilidad de deserción.\")\n",
        "else:\n",
        "    print(\"Existe una correlación negativa o nula, lo que sugiere que el gasto en llamadas internacionales podría no ser un factor importante en la deserción.\")"
      ],
      "metadata": {
        "id": "YWGmcLdoIYwx",
        "colab": {
          "base_uri": "https://localhost:8080/"
        },
        "outputId": "cfeeba70-f70a-4e02-9780-047f4c05a0e6"
      },
      "execution_count": 7,
      "outputs": [
        {
          "output_type": "stream",
          "name": "stdout",
          "text": [
            "Costo promedio de llamadas diurnas para clientes con churn: 35.18\n",
            "Costo promedio de llamadas diurnas para clientes sin churn: 29.78\n",
            "\n",
            "Costo promedio de llamadas nocturnas para clientes con churn: 9.24\n",
            "Costo promedio de llamadas nocturnas para clientes sin churn: 9.01\n",
            "\n",
            "Correlación entre gasto en llamadas internacionales y churn: 0.07\n",
            "Existe una correlación positiva, lo que sugiere que un mayor gasto en llamadas internacionales podría estar asociado con una mayor probabilidad de deserción.\n"
          ]
        }
      ]
    }
  ]
}